{
 "cells": [
  {
   "cell_type": "markdown",
   "source": [
    "# Tutorial for WorkSpace\n",
    "\n",
    "`Workspace` is designed for helping developers manage their data and models.\n",
    "This tool can simulate a virtual os-like system to operate space nodes,\n",
    "which can be pointed to a file-system node or a workspace node.\n",
    "\n",
    "## Import workspace"
   ],
   "metadata": {
    "collapsed": false,
    "pycharm": {
     "name": "#%% md\n"
    }
   }
  },
  {
   "cell_type": "code",
   "execution_count": 1,
   "outputs": [],
   "source": [
    "from longling.ml.workspace import workspace as ws"
   ],
   "metadata": {
    "collapsed": false,
    "pycharm": {
     "name": "#%%\n"
    }
   }
  },
  {
   "cell_type": "markdown",
   "source": [
    "## Create a workspace"
   ],
   "metadata": {
    "collapsed": false,
    "pycharm": {
     "name": "#%% md\n"
    }
   }
  },
  {
   "cell_type": "code",
   "execution_count": 2,
   "metadata": {
    "collapsed": true,
    "pycharm": {
     "name": "#%%\n"
    }
   },
   "outputs": [
    {
     "name": "stderr",
     "output_type": "stream",
     "text": [
      "F:\\Program\\Python\\longling\\longling\\ML\\Workspace\\workspace.py:154: UserWarning: WorkSpace ws not existed, created, configuration is located at ~\\.lws\\ws (abspath: F:\\Program\\Python\\longling\\examples\\ML\\~\\.lws\\ws). To avoid this warning, use init() to create space before using.\n",
      "  % (name, wsm.config_path, os.path.abspath(wsm.config_path))\n"
     ]
    },
    {
     "data": {
      "text/plain": "Space[ws - (a)]: / -> /"
     },
     "execution_count": 2,
     "metadata": {},
     "output_type": "execute_result"
    }
   ],
   "source": [
    "wsm = ws.use(\"ws\")\n",
    "wsm.root"
   ]
  },
  {
   "cell_type": "markdown",
   "source": [
    "Here we create a workspace with a workspace manager, named as `ws`, this workspace pointing to nothing.\n",
    "To point to a file-system location, we can firstly access the workspace `root` and\n",
    "use `point` method to set the `pointer` of `root`:"
   ],
   "metadata": {
    "collapsed": false,
    "pycharm": {
     "name": "#%% md\n"
    }
   }
  },
  {
   "cell_type": "code",
   "execution_count": 3,
   "outputs": [
    {
     "data": {
      "text/plain": "Space[ws - (f)]: / -> ./data"
     },
     "execution_count": 3,
     "metadata": {},
     "output_type": "execute_result"
    }
   ],
   "source": [
    "wsm.root.point_to(\"./data\")\n",
    "wsm.root"
   ],
   "metadata": {
    "collapsed": false,
    "pycharm": {
     "name": "#%%\n"
    }
   }
  },
  {
   "cell_type": "markdown",
   "source": [
    "## Operate workspace\n",
    "Similar to file system, workspace provides developers with various file-system-like operations:"
   ],
   "metadata": {
    "collapsed": false,
    "pycharm": {
     "name": "#%% md\n"
    }
   }
  },
  {
   "cell_type": "code",
   "execution_count": 4,
   "outputs": [
    {
     "name": "stdout",
     "output_type": "stream",
     "text": [
      "(f) / -> ./data\n",
      "(a) \\data -> data\\data\n",
      "(a) \\model -> data\\model\n",
      "(a) \\space -> data\\space\n",
      "(a) \\space\\model1 -> data\\space\\model1\n"
     ]
    }
   ],
   "source": [
    "# create a `data` space under `root`\n",
    "wsm.mkdir(\"data\")\n",
    "# create a `model` space under `root`, `mkn` is equivalent to `mkdir`\n",
    "wsm.mkn(\"model\")\n",
    "# recursive create a space by path\n",
    "wsm.mkn(\"space/model1\", recursive=True)\n",
    "# show all created spaces\n",
    "wsm.la()"
   ],
   "metadata": {
    "collapsed": false,
    "pycharm": {
     "name": "#%%\n"
    }
   }
  },
  {
   "cell_type": "code",
   "execution_count": 5,
   "outputs": [
    {
     "name": "stdout",
     "output_type": "stream",
     "text": [
      "model1\n"
     ]
    }
   ],
   "source": [
    "# show `space` space only\n",
    "wsm.ls(\"space\")"
   ],
   "metadata": {
    "collapsed": false,
    "pycharm": {
     "name": "#%%\n"
    }
   }
  },
  {
   "cell_type": "code",
   "execution_count": 6,
   "outputs": [
    {
     "name": "stdout",
     "output_type": "stream",
     "text": [
      "Space[space - (a)]: \\space -> data\\space\n",
      "----------------------------------------\n",
      "model1 -> data\\space\\model1\n",
      "----------------------------------------\n"
     ]
    }
   ],
   "source": [
    "# show more information about `space`\n",
    "wsm.ll(\"space\")"
   ],
   "metadata": {
    "collapsed": false,
    "pycharm": {
     "name": "#%%\n"
    }
   }
  },
  {
   "cell_type": "markdown",
   "source": [
    "From the displayed information, we can see that, a space path points to a file-system path.\n",
    "For instance, `\\model` is a space path and points to the file-system location `data/model`.\n",
    "Developers could use `.sp` and `.fp` to access the space path and file-system path:"
   ],
   "metadata": {
    "collapsed": false,
    "pycharm": {
     "name": "#%% md\n"
    }
   }
  },
  {
   "cell_type": "code",
   "execution_count": 7,
   "outputs": [
    {
     "data": {
      "text/plain": "PureWindowsPath('/space/model1')"
     },
     "execution_count": 7,
     "metadata": {},
     "output_type": "execute_result"
    }
   ],
   "source": [
    "wsm[\"space/model1\"].sp"
   ],
   "metadata": {
    "collapsed": false,
    "pycharm": {
     "name": "#%%\n"
    }
   }
  },
  {
   "cell_type": "code",
   "execution_count": 8,
   "outputs": [
    {
     "data": {
      "text/plain": "PureWindowsPath('data/space/model1')"
     },
     "execution_count": 8,
     "metadata": {},
     "output_type": "execute_result"
    }
   ],
   "source": [
    "wsm[\"space/model1\"].fp"
   ],
   "metadata": {
    "collapsed": false,
    "pycharm": {
     "name": "#%%\n"
    }
   }
  },
  {
   "cell_type": "markdown",
   "source": [
    "Here, we can see three spaces under `/`, i.e., `data`, `model` and `space`.\n",
    "And a space `model1` created under `space`.\n",
    "Furthermore, we can see there are a little differences at the beginning of spaces.\n",
    "`/` is marked as `(f)` while others are marked as `(a)`. `(f)` in fact means `file-system pointer`\n",
    "while `(a)` is the `adaptive` pointer. `(f)` type means this node has been bind with the `file-system` node\n",
    "and no matter how the space path changed, the pointer will point to the same `file-system` location.\n",
    "On the contrary, the `(a)` type means the pointer is dynamic and adaptively changed according to the space path.\n",
    "For example,"
   ],
   "metadata": {
    "collapsed": false,
    "pycharm": {
     "name": "#%% md\n"
    }
   }
  },
  {
   "cell_type": "code",
   "execution_count": 9,
   "outputs": [
    {
     "data": {
      "text/plain": "Space[data - (f)]: \\space\\data -> ./data/data"
     },
     "execution_count": 9,
     "metadata": {},
     "output_type": "execute_result"
    }
   ],
   "source": [
    "wsm.mkn(\"space/data\", pointer=\"./data/data\")\n",
    "wsm[\"space/data\"]"
   ],
   "metadata": {
    "collapsed": false,
    "pycharm": {
     "name": "#%%\n"
    }
   }
  },
  {
   "cell_type": "markdown",
   "source": [
    "By default, if a space has not been set to be pointed to any `file-system` location,\n",
    "i.e., the `pointer` of the space is `None`, it will be `(a)` type.\n",
    "To see the type of a specific node, use `.ntype` method.\n"
   ],
   "metadata": {
    "collapsed": false,
    "pycharm": {
     "name": "#%% md\n"
    }
   }
  },
  {
   "cell_type": "code",
   "execution_count": 10,
   "outputs": [
    {
     "data": {
      "text/plain": "'a'"
     },
     "execution_count": 10,
     "metadata": {},
     "output_type": "execute_result"
    }
   ],
   "source": [
    "wsm[\"space/model1\"].ntype\n"
   ],
   "metadata": {
    "collapsed": false,
    "pycharm": {
     "name": "#%%\n"
    }
   }
  },
  {
   "cell_type": "code",
   "execution_count": 11,
   "outputs": [
    {
     "data": {
      "text/plain": "'f'"
     },
     "execution_count": 11,
     "metadata": {},
     "output_type": "execute_result"
    }
   ],
   "source": [
    "wsm[\"space/data\"].ntype\n"
   ],
   "metadata": {
    "collapsed": false,
    "pycharm": {
     "name": "#%%\n"
    }
   }
  },
  {
   "cell_type": "markdown",
   "source": [
    "In addition to `a` and `f`, there is another type `s`, means a space link. To create a `s` space,\n",
    "just set the pointer pointing to a space, which can be easily implemented by `mkl`.\n",
    "`mkl` can also be used to make a space `f`, where the pointer is expected to be a `PATH_TYPE`(e.g., `str`) variable.\n",
    "Similarly, to make a space `a` type, set the pointer as `None`, which can be realized by `reset_pointer`."
   ],
   "metadata": {
    "collapsed": false,
    "pycharm": {
     "name": "#%% md\n"
    }
   }
  },
  {
   "cell_type": "code",
   "execution_count": 12,
   "outputs": [
    {
     "data": {
      "text/plain": "Space[data - (f)]: \\space\\data -> ../data"
     },
     "execution_count": 12,
     "metadata": {},
     "output_type": "execute_result"
    }
   ],
   "source": [
    "wsm.mkl(\"space/data\", \"../data\")\n",
    "wsm[\"space/data\"]"
   ],
   "metadata": {
    "collapsed": false,
    "pycharm": {
     "name": "#%%\n"
    }
   }
  },
  {
   "cell_type": "code",
   "execution_count": 13,
   "outputs": [
    {
     "data": {
      "text/plain": "Space[model1 - (a)]: \\space\\model1 -> data\\space\\model1"
     },
     "execution_count": 13,
     "metadata": {},
     "output_type": "execute_result"
    }
   ],
   "source": [
    "wsm[\"space/model1\"]"
   ],
   "metadata": {
    "collapsed": false,
    "pycharm": {
     "name": "#%%\n"
    }
   }
  },
  {
   "cell_type": "code",
   "source": [
    "# move the space, to see how the file pointer changed\n",
    "wsm.mv(\"space/model1\", \"space/model2\")\n",
    "wsm[\"space/model2\"]"
   ],
   "metadata": {
    "collapsed": false,
    "pycharm": {
     "name": "#%%\n"
    }
   },
   "execution_count": 14,
   "outputs": [
    {
     "data": {
      "text/plain": "Space[model2 - (a)]: \\space\\model2 -> data\\space\\model2"
     },
     "execution_count": 14,
     "metadata": {},
     "output_type": "execute_result"
    }
   ]
  },
  {
   "cell_type": "code",
   "execution_count": 15,
   "outputs": [
    {
     "data": {
      "text/plain": "Space[model3 - (f)]: \\space\\model3 -> ./data/space/model3"
     },
     "execution_count": 15,
     "metadata": {},
     "output_type": "execute_result"
    }
   ],
   "source": [
    "wsm.mkn(\"space/model3\", \"./data/space/model3\")\n",
    "wsm[\"space/model3\"]"
   ],
   "metadata": {
    "collapsed": false,
    "pycharm": {
     "name": "#%%\n"
    }
   }
  },
  {
   "cell_type": "code",
   "execution_count": 16,
   "outputs": [
    {
     "data": {
      "text/plain": "Space[model4 - (f)]: \\space\\model4 -> ./data/space/model3"
     },
     "execution_count": 16,
     "metadata": {},
     "output_type": "execute_result"
    }
   ],
   "source": [
    "wsm.mv(\"space/model3\", \"space/model4\")\n",
    "wsm[\"space/model4\"]"
   ],
   "metadata": {
    "collapsed": false,
    "pycharm": {
     "name": "#%%\n"
    }
   }
  },
  {
   "cell_type": "code",
   "execution_count": 17,
   "outputs": [
    {
     "data": {
      "text/plain": "Space[data - (a)]: \\space\\data -> data\\space\\data"
     },
     "execution_count": 17,
     "metadata": {},
     "output_type": "execute_result"
    }
   ],
   "source": [
    "wsm[\"space/data\"].reset_pointer()\n",
    "wsm[\"space/data\"]"
   ],
   "metadata": {
    "collapsed": false,
    "pycharm": {
     "name": "#%%\n"
    }
   }
  },
  {
   "cell_type": "code",
   "execution_count": 18,
   "outputs": [
    {
     "data": {
      "text/plain": "Space[data - (s)]: \\space\\data -> data\\data"
     },
     "execution_count": 18,
     "metadata": {},
     "output_type": "execute_result"
    }
   ],
   "source": [
    "wsm.mkl(\"space/data\", wsm[\"data\"])\n",
    "wsm[\"space/data\"]"
   ],
   "metadata": {
    "collapsed": false,
    "pycharm": {
     "name": "#%%\n"
    }
   }
  },
  {
   "cell_type": "markdown",
   "source": [
    "Another one method to make a space `f` is `mount`. Different from `mkl`, `mount` only accepts the `PATH_TYPE`\n",
    "as the pointer argument.\n",
    "*Notice: if pointer is not set, it will automatically use current space path as the file-system path*"
   ],
   "metadata": {
    "collapsed": false,
    "pycharm": {
     "name": "#%% md\n"
    }
   }
  },
  {
   "cell_type": "code",
   "execution_count": 19,
   "outputs": [
    {
     "data": {
      "text/plain": "Space[data - (f)]: \\space\\data -> ./data"
     },
     "execution_count": 19,
     "metadata": {},
     "output_type": "execute_result"
    }
   ],
   "source": [
    "wsm.mount(\"space/data\", \"./data\")\n",
    "wsm[\"space/data\"]"
   ],
   "metadata": {
    "collapsed": false,
    "pycharm": {
     "name": "#%%\n"
    }
   }
  },
  {
   "cell_type": "code",
   "execution_count": 20,
   "outputs": [
    {
     "data": {
      "text/plain": "Space[data - (a)]: \\space\\data -> data\\space\\data"
     },
     "execution_count": 20,
     "metadata": {},
     "output_type": "execute_result"
    }
   ],
   "source": [
    "wsm[\"space/data\"].reset_pointer()\n",
    "wsm[\"space/data\"]"
   ],
   "metadata": {
    "collapsed": false,
    "pycharm": {
     "name": "#%%\n"
    }
   }
  },
  {
   "cell_type": "code",
   "execution_count": 21,
   "outputs": [
    {
     "data": {
      "text/plain": "Space[data - (f)]: \\space\\data -> data\\space\\data"
     },
     "execution_count": 21,
     "metadata": {},
     "output_type": "execute_result"
    }
   ],
   "source": [
    "wsm.mount(\"space/data\")\n",
    "wsm[\"space/data\"]"
   ],
   "metadata": {
    "collapsed": false,
    "pycharm": {
     "name": "#%%\n"
    }
   }
  },
  {
   "cell_type": "markdown",
   "source": [
    "The other operations like `cp` and `rm` are also supported."
   ],
   "metadata": {
    "collapsed": false,
    "pycharm": {
     "name": "#%% md\n"
    }
   }
  },
  {
   "cell_type": "code",
   "execution_count": 22,
   "outputs": [
    {
     "name": "stdout",
     "output_type": "stream",
     "text": [
      "(f) / -> ./data\n",
      "(a) \\data -> data\\data\n",
      "(a) \\model -> data\\model\n",
      "(a) \\space -> data\\space\n",
      "(f) \\space\\data -> data\\space\\data\n",
      "(a) \\space\\model2 -> data\\space\\model2\n",
      "(f) \\space\\model4 -> ./data/space/model3\n",
      "(a) \\new_space -> data\\new_space\n",
      "(f) \\new_space\\data -> data\\space\\data\n",
      "(a) \\new_space\\model2 -> data\\new_space\\model2\n",
      "(f) \\new_space\\model4 -> ./data/space/model3\n"
     ]
    }
   ],
   "source": [
    "wsm.cp(\"space\", \"new_space\")\n",
    "wsm.la()"
   ],
   "metadata": {
    "collapsed": false,
    "pycharm": {
     "name": "#%%\n"
    }
   }
  },
  {
   "cell_type": "code",
   "execution_count": 23,
   "outputs": [
    {
     "name": "stdout",
     "output_type": "stream",
     "text": [
      "(f) / -> ./data\n",
      "(a) \\data -> data\\data\n",
      "(a) \\model -> data\\model\n",
      "(a) \\space -> data\\space\n",
      "(f) \\space\\data -> data\\space\\data\n",
      "(a) \\space\\model2 -> data\\space\\model2\n",
      "(f) \\space\\model4 -> ./data/space/model3\n"
     ]
    }
   ],
   "source": [
    "wsm.rm(\"new_space\", recursive=True)\n",
    "wsm.la()"
   ],
   "metadata": {
    "collapsed": false,
    "pycharm": {
     "name": "#%%\n"
    }
   }
  },
  {
   "cell_type": "markdown",
   "source": [
    "Another one basic but important feature in workspace is make index, i.e., `mki`,\n",
    "which can help developer easily access a deep-path space."
   ],
   "metadata": {
    "collapsed": false,
    "pycharm": {
     "name": "#%% md\n"
    }
   }
  },
  {
   "cell_type": "code",
   "execution_count": 24,
   "outputs": [
    {
     "data": {
      "text/plain": "Space[1 - (a)]: \\space\\5\\4\\3\\2\\1 -> data\\space\\5\\4\\3\\2\\1"
     },
     "execution_count": 24,
     "metadata": {},
     "output_type": "execute_result"
    }
   ],
   "source": [
    "wsm.mkn(\"space/5/4/3/2/1\", recursive=True)\n",
    "wsm.mki(\"space/5/4/3/2/1\", \"space1\")\n",
    "wsm.index[\"space1\"]"
   ],
   "metadata": {
    "collapsed": false,
    "pycharm": {
     "name": "#%%\n"
    }
   }
  },
  {
   "cell_type": "code",
   "execution_count": 25,
   "outputs": [
    {
     "data": {
      "text/plain": "Space[2 - (a)]: \\space\\5\\4\\3\\2\\2 -> data\\space\\5\\4\\3\\2\\2"
     },
     "execution_count": 25,
     "metadata": {},
     "output_type": "execute_result"
    }
   ],
   "source": [
    "# above is equivalent to the following:\n",
    "wsm.mkn(\"space/5/4/3/2/2\", recursive=True, index=\"space2\")\n",
    "wsm.index[\"space2\"]\n"
   ],
   "metadata": {
    "collapsed": false,
    "pycharm": {
     "name": "#%%\n"
    }
   }
  },
  {
   "cell_type": "markdown",
   "source": [
    "## Advanced Operations\n",
    "\n",
    "To build the workspace more efficient, we provide two important features: `from_fs` and `create_workspace` from template.\n",
    "The former feature can generate a space based on current `file-system` structure,\n",
    "while `create_workspace` can quickly generate a complicated space structure based on pre-defined template.\n"
   ],
   "metadata": {
    "collapsed": false,
    "pycharm": {
     "name": "#%% md\n"
    }
   }
  },
  {
   "cell_type": "code",
   "execution_count": 26,
   "outputs": [
    {
     "name": "stdout",
     "output_type": "stream",
     "text": [
      "(f) / -> ../static/ws_demo_fs\n",
      "(a) \\dataset1 -> ..\\static\\ws_demo_fs\\dataset1\n",
      "(a) \\dataset1\\cv -> ..\\static\\ws_demo_fs\\dataset1\\cv\n",
      "(a) \\dataset1\\cv\\0 -> ..\\static\\ws_demo_fs\\dataset1\\cv\\0\n",
      "(f) \\dataset1\\cv\\0\\train.csv -> dataset1\\cv\\0\\train.csv\n",
      "(f) \\dataset1\\train.csv -> dataset1\\train.csv\n",
      "(a) \\model -> ..\\static\\ws_demo_fs\\model\n",
      "(a) \\model\\model1 -> ..\\static\\ws_demo_fs\\model\\model1\n",
      "(a) \\model\\model1\\input -> ..\\static\\ws_demo_fs\\model\\model1\\input\n",
      "(a) \\model\\model1\\output -> ..\\static\\ws_demo_fs\\model\\model1\\output\n",
      "(a) \\model\\model1\\model -> ..\\static\\ws_demo_fs\\model\\model1\\model\n",
      "(a) \\model\\model1\\tmp -> ..\\static\\ws_demo_fs\\model\\model1\\tmp\n"
     ]
    },
    {
     "name": "stderr",
     "output_type": "stream",
     "text": [
      "F:\\Program\\Python\\longling\\longling\\ML\\Workspace\\workspace.py:154: UserWarning: WorkSpace ws not existed, created, configuration is located at ws (abspath: F:\\Program\\Python\\longling\\examples\\ML\\ws). To avoid this warning, use init() to create space before using.\n",
      "  % (name, wsm.config_path, os.path.abspath(wsm.config_path))\n"
     ]
    }
   ],
   "source": [
    "wsm = ws.use(\"ws\", rfp=\"../static/ws_demo_fs\", space_dir=\"./\", force_reinit=True, from_fs=True, skip_files=False, file_as_f=True)\n",
    "wsm.mkdir(\"model\")\n",
    "wsm.add_space_to(ws.create_workspace(\"model1\", \"simple\"), \"model\", index=\"model1\")\n",
    "wsm.la()"
   ],
   "metadata": {
    "collapsed": false,
    "pycharm": {
     "name": "#%%\n"
    }
   }
  },
  {
   "cell_type": "markdown",
   "source": [
    "## Load and Save\n",
    "\n",
    "Workspace can be used across different scripts by `save & load`"
   ],
   "metadata": {
    "collapsed": false,
    "pycharm": {
     "name": "#%% md\n"
    }
   }
  },
  {
   "cell_type": "code",
   "execution_count": 27,
   "outputs": [
    {
     "data": {
      "text/plain": "PureWindowsPath('ws')"
     },
     "execution_count": 27,
     "metadata": {},
     "output_type": "execute_result"
    }
   ],
   "source": [
    "wsm.save()\n",
    "wsm.config_path"
   ],
   "metadata": {
    "collapsed": false,
    "pycharm": {
     "name": "#%%\n"
    }
   }
  },
  {
   "cell_type": "code",
   "execution_count": 28,
   "outputs": [
    {
     "data": {
      "text/plain": "WorkSpace[ws]"
     },
     "execution_count": 28,
     "metadata": {},
     "output_type": "execute_result"
    }
   ],
   "source": [
    "wsm = ws.use(\"ws\", space_dir=\"./\")\n",
    "wsm"
   ],
   "metadata": {
    "collapsed": false,
    "pycharm": {
     "name": "#%%\n"
    }
   }
  },
  {
   "cell_type": "code",
   "execution_count": 29,
   "outputs": [
    {
     "name": "stdout",
     "output_type": "stream",
     "text": [
      "(a) / -> /\n",
      "(a) \\space -> \\space\n",
      "(a) \\space\\5 -> \\space\\5\n",
      "(a) \\space\\5\\3 -> \\space\\5\\3\n"
     ]
    },
    {
     "name": "stderr",
     "output_type": "stream",
     "text": [
      "F:\\Program\\Python\\longling\\longling\\ML\\Workspace\\workspace.py:154: UserWarning: WorkSpace ws1 not existed, created, configuration is located at ws1 (abspath: F:\\Program\\Python\\longling\\examples\\ML\\ws1). To avoid this warning, use init() to create space before using.\n",
      "  % (name, wsm.config_path, os.path.abspath(wsm.config_path))\n"
     ]
    }
   ],
   "source": [
    "# A more easy way to to use `use_space`\n",
    "\n",
    "with ws.use_space(\"ws1\", space_dir=\"./\", force_reinit=True) as wsm:\n",
    "    wsm.mkn(\"space/5/3\", recursive=True)\n",
    "    wsm.la()"
   ],
   "metadata": {
    "collapsed": false,
    "pycharm": {
     "name": "#%%\n"
    }
   }
  },
  {
   "cell_type": "code",
   "execution_count": 30,
   "outputs": [
    {
     "data": {
      "text/plain": "WorkSpace[ws1]"
     },
     "execution_count": 30,
     "metadata": {},
     "output_type": "execute_result"
    }
   ],
   "source": [
    "wsm = ws.use(\"ws1\", space_dir=\"./\")\n",
    "wsm"
   ],
   "metadata": {
    "collapsed": false,
    "pycharm": {
     "name": "#%%\n"
    }
   }
  },
  {
   "cell_type": "code",
   "execution_count": 31,
   "outputs": [
    {
     "name": "stdout",
     "output_type": "stream",
     "text": [
      "(a) / -> /\n",
      "(a) \\space -> \\space\n",
      "(a) \\space\\5 -> \\space\\5\n",
      "(a) \\space\\5\\3 -> \\space\\5\\3\n"
     ]
    }
   ],
   "source": [
    "wsm.la()"
   ],
   "metadata": {
    "collapsed": false,
    "pycharm": {
     "name": "#%%\n"
    }
   }
  }
 ],
 "metadata": {
  "kernelspec": {
   "display_name": "Python 3",
   "language": "python",
   "name": "python3"
  },
  "language_info": {
   "codemirror_mode": {
    "name": "ipython",
    "version": 2
   },
   "file_extension": ".py",
   "mimetype": "text/x-python",
   "name": "python",
   "nbconvert_exporter": "python",
   "pygments_lexer": "ipython2",
   "version": "2.7.6"
  }
 },
 "nbformat": 4,
 "nbformat_minor": 0
}