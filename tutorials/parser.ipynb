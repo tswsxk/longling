{
 "cells": [
  {
   "cell_type": "markdown",
   "metadata": {
    "collapsed": true,
    "pycharm": {
     "name": "#%% md\n"
    }
   },
   "source": [
    "# Configuration and Parser\n",
    "\n",
    "In many application scenario, `Configuration` is an important component.\n",
    "People hope to use `Configuration` to specify the arguments which will be used in the following tasks.\n",
    "Generally, `Configuration` is expected to have the following traits:\n",
    "1. contains several variables and variables can be read and written in the following tasks;\n",
    "2. could be dumped to the file and reloaded from specified file,\n",
    "\n",
    "in addition, there are some advanced needs:\n",
    "1. could be easily converted into command line interface;\n",
    "2. flexibly specify the configurable variables rather than include all variables;\n",
    "\n",
    "Thus, we proposed our `Configuration` and the adapted `ConfigurationParser`.\n",
    "Our `Configuration` is capable of:\n",
    "1. contains several readable and writeable variables which can be flexibly specified to be configurable or not;\n",
    "2. could be dumped to a file (default is `json`, but `yaml` and `toml` are also supported)\n",
    "and reloaded from the specified file.\n",
    "\n",
    "And with the help of `ConfigurationParser`,\n",
    "the variables in `Configuration` can be easily converted into CLI arguments.\n",
    "Furthermore, in order to enrich the ability of the parser to analyze the complicated data structure via console\n",
    "(e.g., list, dict, even calculation expression), we proposed an unique formulations.\n",
    "\n",
    "In the following chapters, we will show the basic usage of the `Configuration`\n",
    "and explain the expression grammar in `ConfigurationParser`."
   ]
  },
  {
   "cell_type": "markdown",
   "metadata": {},
   "source": [
    "## Basic Usage\n",
    "\n",
    "Assume our need is to set a logger in `Configuration` and some other task relevant variables,\n",
    "in addition, we only want to preserve the variables rather than the logger\n",
    "(in fact, a logger object could be dumped to json).\n",
    "\n",
    "Thus, `Configuration` is expected to hold all variables in run time and dumped `json` file\n",
    "but only hold the logger during run time.\n",
    "By inheriting `Configuration` from `longling.lib.parser`\n",
    "which exclude `logger` and some other 'basic' variables related to all class object\n",
    "(e.g., '\\_\\_dict\\_\\_', '\\_\\_weakref\\_\\_'), we can achieve that:"
   ]
  },
  {
   "cell_type": "code",
   "execution_count": 1,
   "metadata": {
    "pycharm": {
     "name": "#%%\n"
    }
   },
   "outputs": [
    {
     "name": "stderr",
     "output_type": "stream",
     "text": [
      "INFO:root:writing configuration parameters to G:\\program\\longling\\tutorials\\params.json\n"
     ]
    },
    {
     "name": "stdout",
     "output_type": "stream",
     "text": [
      "{\n",
      "  \"a\": 1,\n",
      "  \"b\": 2\n",
      "}\n"
     ]
    }
   ],
   "source": [
    "from longling import set_logging_info, config_logging\n",
    "from longling.lib.parser import Configuration\n",
    "\n",
    "set_logging_info()\n",
    "\n",
    "class Params(Configuration):\n",
    "    a = 1\n",
    "    b = 2\n",
    "\n",
    "params = Params()\n",
    "params.dump(\"params.json\", override=True)\n",
    "with open(\"params.json\") as f:\n",
    "    print(f.read())"
   ]
  },
  {
   "cell_type": "code",
   "execution_count": 2,
   "metadata": {
    "pycharm": {
     "name": "#%%\n"
    }
   },
   "outputs": [
    {
     "name": "stdout",
     "output_type": "stream",
     "text": [
      "logger: <Logger params (INFO)>\n",
      "a: 1\n",
      "b: 2\n"
     ]
    }
   ],
   "source": [
    "params.a = 10  # this will not change the value in \"params.json\", thus the loaded \"a\" is still 1\n",
    "logger = config_logging(logger=\"params\")\n",
    "params = Params.load(\"params.json\", logger=logger)  # we specify a new logger here, if not, logging will be used.\n",
    "print(params)"
   ]
  },
  {
   "cell_type": "markdown",
   "metadata": {
    "pycharm": {
     "name": "#%% md\n"
    }
   },
   "source": [
    "Aha, we can see that the `Configuration` can included and excluded\n",
    "when dumping and loading `Configuration` via `json` file.\n",
    "\n",
    "Also, `yaml` and `toml` are supported:"
   ]
  },
  {
   "cell_type": "code",
   "execution_count": 3,
   "outputs": [
    {
     "name": "stdout",
     "output_type": "stream",
     "text": [
      "a = 1\n",
      "b = 2\n",
      "\n",
      "{a: 1, b: 2}\n",
      "\n"
     ]
    }
   ],
   "source": [
    "params.dump(\"params.toml\", override=True, file_format=\"toml\")\n",
    "with open(\"params.toml\") as f:\n",
    "    print(f.read())\n",
    "\n",
    "params.dump(\"params.yaml\", override=True, file_format=\"yaml\")\n",
    "with open(\"params.yaml\") as f:\n",
    "    print(f.read())\n"
   ],
   "metadata": {
    "collapsed": false,
    "pycharm": {
     "name": "#%%\n"
    }
   }
  },
  {
   "cell_type": "markdown",
   "source": [
    "## Converting `Configuration` into CLI\n",
    "\n",
    "### 1s to CLI\n",
    "The easiest way to convert `Configuration` into CLI is to use the `ConfigurationParser` in `longling.lib.parser`.\n",
    "\n",
    "Here is the example:"
   ],
   "metadata": {
    "collapsed": false,
    "pycharm": {
     "name": "#%% md\n"
    }
   }
  },
  {
   "cell_type": "code",
   "execution_count": 4,
   "metadata": {
    "pycharm": {
     "name": "#%%\n"
    }
   },
   "outputs": [
    {
     "name": "stdout",
     "output_type": "stream",
     "text": [
      "usage: ipykernel_launcher.py [-h] [--a A] [--b B] [--kwargs KWARGS]\n",
      "\n",
      "optional arguments:\n",
      "  -h, --help       show this help message and exit\n",
      "  --a A            set a, default is 1\n",
      "  --b B            set b, default is 2\n",
      "  --kwargs KWARGS  add extra argument here, use format:\n",
      "                   <key>=<value>(;<key>=<value>)\n",
      "{'a': '5', 'b': '7'}\n"
     ]
    }
   ],
   "source": [
    "from longling.lib.parser import ConfigurationParser\n",
    "\n",
    "cfg_parser = ConfigurationParser(Params)\n",
    "cfg_parser.print_help()\n",
    "print(cfg_parser(\n",
    "    \"--a 5 --b 7\"\n",
    "))"
   ]
  },
  {
   "cell_type": "markdown",
   "metadata": {
    "pycharm": {
     "name": "#%% md\n"
    }
   },
   "source": [
    "See, quite easy. We will show a more complicated example that use our designing `console input grammar`\n",
    "to receive more data structures or expressions.\n",
    "\n",
    "### Grammar in `ConfigurationParser`\n",
    "\n",
    "Number and string are easy to be passed to `Configuration` via with the help of `ConfigurationParser`.\n",
    "However,\n",
    "we often need to use more complicated data structures like `list` and `dict` as the variables in `Configuration`.\n",
    "Thus, is it possible to pass these via console?\n",
    "The answer is `Yes`.\n",
    "We propose a Console Input Grammar (CIG) to support passing complicated data structures via console.\n",
    "Furthermore, the grammar also allow users using simple `python` expression in console such as `for` and `if`.\n",
    "\n",
    "Here is an example where `int`, `float`, `list`, `dict`, `tuple` and `dict` are all used:"
   ]
  },
  {
   "cell_type": "code",
   "execution_count": 5,
   "metadata": {
    "pycharm": {
     "name": "#%%\n"
    }
   },
   "outputs": [
    {
     "name": "stdout",
     "output_type": "stream",
     "text": [
      "usage: ipykernel_launcher.py [-h] [--a A] [--b B] [--c C] [--d D] [--e E]\n",
      "                             [--f F] [--kwargs KWARGS]\n",
      "\n",
      "optional arguments:\n",
      "  -h, --help       show this help message and exit\n",
      "  --a A            set a, default is 1\n",
      "  --b B            set b, default is 0.2\n",
      "  --c C            set c, default is hello world\n",
      "  --d D            set d, default is [1, 2, 3]\n",
      "  --e E            set e, default is ('Tom', 'Jerry')\n",
      "  --f F            set f, default is {'Ada': 1.0, 'Sher': 3.0}, dict\n",
      "                   variables, use format: <key>=<value>(;<key>=<value>)\n",
      "  --kwargs KWARGS  add extra argument here, use format:\n",
      "                   <key>=<value>(;<key>=<value>)\n"
     ]
    },
    {
     "data": {
      "text/plain": "{'a': 10,\n 'b': 0.8,\n 'c': 'hello longling',\n 'd': [0, 1, 2, 3, 4, 5, 6, 7],\n 'e': (True, False),\n 'f': {'Ada': '2.0', 'Sher': {'a': 1, 'b': None}},\n 'g': 'a',\n 'h': None}"
     },
     "execution_count": 5,
     "metadata": {},
     "output_type": "execute_result"
    }
   ],
   "source": [
    "class ComplicatedParams(Configuration):\n",
    "    a = 1\n",
    "    b = 0.2\n",
    "    c = \"hello world\"\n",
    "    d = [1, 2, 3]\n",
    "    e = (\"Tom\", \"Jerry\")\n",
    "    f = {\"Ada\": 1.0, \"Sher\": 3.0}\n",
    "\n",
    "cfg_parser = ConfigurationParser(ComplicatedParams)\n",
    "cfg_parser.print_help()\n",
    "cfg_parser([\n",
    "    \"--a\", \"int(10)\",\n",
    "    \"--b\", \"float(0.8)\",\n",
    "    \"--c\", \"hello longling\",\n",
    "    \"--d\", \"list([i for i in range(8)])\",\n",
    "    \"--e\", \"tuple((bool(True), bool(False)))\",\n",
    "    \"--f\", \"Ada=2.0;Sher=dict(a=1,b=None)\",\n",
    "    \"--kwargs\", \"g=a;h=None\"\n",
    "])"
   ]
  },
  {
   "cell_type": "markdown",
   "metadata": {
    "pycharm": {
     "name": "#%% md\n"
    }
   },
   "source": [
    "All passed values will be treated as `str` by default.\n",
    "In order to enable the evaluation which can retrieve the data structure and expression from string,\n",
    "type declaration is required which is illustrated in the previous example.\n",
    "Only `dict` in the top level is a little special, `;` is used to distinguished the dict object.\n",
    "In addition, once the evaluation is enabled, the value inner the expression will be automatically parsed\n",
    "which is no longer needed the special expression like top level such as `Sher=dict(a=1,b=None)`\n",
    "\n",
    "```\n",
    "Q&A\n",
    "\n",
    "```\n",
    "\n",
    "\n",
    "## Advanced\n",
    "\n",
    "### `Configuration` template in machine learning\n",
    "\n",
    "First, we analyze our needs and then we tailor `Configuration` for machine learning task.\n",
    "\n",
    "Consider there are various frameworks which have their own individual undumpedable variables,\n",
    "we respectively design the different `Configuration` template for some of them:\n",
    "\n",
    "#### `Configuration` for `mxnet`\n",
    "\n",
    "`mxnet` is a widely used deep learning framework and contains several handy but unique variable class.\n",
    "For example, when using `mxnet`, context (i.e., `ctx`) should be specified no matter in data loading or model training.\n",
    "Thus, `ctx` is the variable which should be included in `Configuration`.\n",
    "However, as claimed before, unique variable cannot be directly dumped into `json` file\n",
    "and obviously `ctx` is a run-time variable which is pointless to preserve it in dumped file.\n",
    "\n",
    "#### `Configuration` for `pytorch`"
   ]
  }
 ],
 "metadata": {
  "kernelspec": {
   "display_name": "Python 3",
   "language": "python",
   "name": "python3"
  },
  "language_info": {
   "codemirror_mode": {
    "name": "ipython",
    "version": 3
   },
   "file_extension": ".py",
   "mimetype": "text/x-python",
   "name": "python",
   "nbconvert_exporter": "python",
   "pygments_lexer": "ipython3",
   "version": "3.6.6"
  }
 },
 "nbformat": 4,
 "nbformat_minor": 1
}