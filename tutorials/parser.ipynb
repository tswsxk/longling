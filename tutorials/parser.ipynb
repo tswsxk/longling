{
 "cells": [
  {
   "cell_type": "markdown",
   "metadata": {
    "collapsed": true,
    "pycharm": {
     "name": "#%% md\n"
    }
   },
   "source": [
    "# Configuration and Parser\n",
    "\n",
    "In many application scenario, `Configuration` is an important component.\n",
    "People hope to use `Configuration` to specify the arguments which will be used in the following tasks.\n",
    "Generally, `Configuration` is expected to have the following traits:\n",
    "1. contains several variables and variables can be read and written in the following tasks;\n",
    "2. could be dumped to the file and reloaded from specified file,\n",
    "\n",
    "in addition, there are some advanced needs:\n",
    "1. could be easily converted into command line interface;\n",
    "2. flexibly specify the configurable variables rather than include all variables;\n",
    "\n",
    "Thus, we proposed our `Configuration` and the adapted `ConfigurationParser`.\n",
    "Our `Configuration` is capable of:\n",
    "1. contains several readable and writeable variables which can be flexibly specified to be configurable or not;\n",
    "2. could be dumped to a file (default is `json`, but `yaml` and `toml` are also supported)\n",
    "and reloaded from the specified file.\n",
    "\n",
    "And with the help of `ConfigurationParser`,\n",
    "the variables in `Configuration` can be easily converted into CLI arguments.\n",
    "Furthermore, in order to enrich the ability of the parser to analyze the complicated data structure via console\n",
    "(e.g., list, dict, even calculation expression), we proposed an unique formulations.\n",
    "\n",
    "In the following chapters, we will show the basic usage of the `Configuration`\n",
    "and explain the expression grammar in `ConfigurationParser`."
   ]
  },
  {
   "cell_type": "markdown",
   "metadata": {},
   "source": [
    "## Basic Usage\n",
    "\n",
    "Assume our need is to set a logger in `Configuration` and some other task relevant variables,\n",
    "in addition, we only want to preserve the variables rather than the logger\n",
    "(in fact, a logger object could be dumped to json).\n",
    "\n",
    "Thus, `Configuration` is expected to hold all variables in run time and dumped `json` file\n",
    "but only hold the logger during run time.\n",
    "By inheriting `Configuration` from `longling.lib.parser`\n",
    "which exclude `logger` and some other 'basic' variables related to all class object\n",
    "(e.g., '\\_\\_dict\\_\\_', '\\_\\_weakref\\_\\_'), we can achieve that:"
   ]
  },
  {
   "cell_type": "code",
   "execution_count": 1,
   "metadata": {
    "pycharm": {
     "name": "#%%\n"
    }
   },
   "outputs": [
    {
     "name": "stderr",
     "output_type": "stream",
     "text": [
      "INFO:root:writing configuration parameters to G:\\program\\longling\\tutorials\\params.json\n"
     ]
    },
    {
     "name": "stdout",
     "output_type": "stream",
     "text": [
      "{\n",
      "  \"a\": 1,\n",
      "  \"b\": 2\n",
      "}\n"
     ]
    }
   ],
   "source": [
    "from longling import set_logging_info, config_logging\n",
    "from longling.lib.parser import Configuration\n",
    "\n",
    "set_logging_info()\n",
    "\n",
    "class Params(Configuration):\n",
    "    a = 1\n",
    "    b = 2\n",
    "\n",
    "params = Params()\n",
    "params.dump(\"params.json\", override=True)\n",
    "with open(\"params.json\") as f:\n",
    "    print(f.read())"
   ]
  },
  {
   "cell_type": "code",
   "execution_count": 2,
   "metadata": {
    "pycharm": {
     "name": "#%%\n"
    }
   },
   "outputs": [
    {
     "name": "stdout",
     "output_type": "stream",
     "text": [
      "logger: <Logger params (INFO)>\n",
      "a: 1\n",
      "b: 2\n"
     ]
    }
   ],
   "source": [
    "params.a = 10  # this will not change the value in \"params.json\", thus the loaded \"a\" is still 1\n",
    "logger = config_logging(logger=\"params\")\n",
    "params = Params.load(\"params.json\", logger=logger)  # we specify a new logger here, if not, logging will be used.\n",
    "print(params)"
   ]
  },
  {
   "cell_type": "markdown",
   "metadata": {
    "pycharm": {
     "name": "#%% md\n"
    }
   },
   "source": [
    "Aha, we can see that the `Configuration` can included and excluded\n",
    "when dumping and loading `Configuration` via `json` file.\n",
    "\n",
    "Also, `yaml` and `toml` are supported:"
   ]
  },
  {
   "cell_type": "code",
   "execution_count": 3,
   "outputs": [
    {
     "name": "stdout",
     "output_type": "stream",
     "text": [
      "a = 1\n",
      "b = 2\n",
      "\n",
      "{a: 1, b: 2}\n",
      "\n"
     ]
    }
   ],
   "source": [
    "params.dump(\"params.toml\", override=True, file_format=\"toml\")\n",
    "with open(\"params.toml\") as f:\n",
    "    print(f.read())\n",
    "\n",
    "params.dump(\"params.yaml\", override=True, file_format=\"yaml\")\n",
    "with open(\"params.yaml\") as f:\n",
    "    print(f.read())\n"
   ],
   "metadata": {
    "collapsed": false,
    "pycharm": {
     "name": "#%%\n"
    }
   }
  },
  {
   "cell_type": "markdown",
   "source": [
    "## Converting `Configuration` into CLI\n",
    "\n",
    "### 1s to CLI\n",
    "The easiest way to convert `Configuration` into CLI is to use the `ConfigurationParser` in `longling.lib.parser`.\n",
    "\n",
    "Here is the example:"
   ],
   "metadata": {
    "collapsed": false,
    "pycharm": {
     "name": "#%% md\n"
    }
   }
  },
  {
   "cell_type": "code",
   "execution_count": 4,
   "metadata": {
    "pycharm": {
     "name": "#%%\n"
    }
   },
   "outputs": [
    {
     "name": "stdout",
     "output_type": "stream",
     "text": [
      "usage: ipykernel_launcher.py [-h] [--a A] [--b B] [--kwargs KWARGS]\n",
      "\n",
      "optional arguments:\n",
      "  -h, --help       show this help message and exit\n",
      "  --a A            set a, default is 1\n",
      "  --b B            set b, default is 2\n",
      "  --kwargs KWARGS  add extra argument here, use format:\n",
      "                   <key>=<value>(;<key>=<value>)\n",
      "{'a': '5', 'b': '7'}\n"
     ]
    }
   ],
   "source": [
    "from longling.lib.parser import ConfigurationParser\n",
    "\n",
    "cfg_parser = ConfigurationParser(Params)\n",
    "cfg_parser.print_help()\n",
    "print(cfg_parser(\n",
    "    \"--a 5 --b 7\"\n",
    "))"
   ]
  },
  {
   "cell_type": "markdown",
   "metadata": {
    "pycharm": {
     "name": "#%% md\n"
    }
   },
   "source": [
    "See, quite easy. We will show a more complicated example that use our designing `console input grammar`\n",
    "to receive more data structures or expressions.\n",
    "\n",
    "### Grammar in `ConfigurationParser`\n",
    "\n",
    "Number and string are easy to be passed to `Configuration` via with the help of `ConfigurationParser`.\n",
    "However,\n",
    "we often need to use more complicated data structures like `list` and `dict` as the variables in `Configuration`.\n",
    "Thus, is it possible to pass these via console?\n",
    "The answer is `Yes`.\n",
    "We propose a Console Input Grammar (CIG) to support passing complicated data structures via console.\n",
    "Furthermore, the grammar also allow users using simple `python` expression in console such as `for` and `if`.\n",
    "\n",
    "Here is an example where `int`, `float`, `list`, `dict`, `tuple` and `dict` are all used:"
   ]
  },
  {
   "cell_type": "code",
   "execution_count": 5,
   "metadata": {
    "pycharm": {
     "name": "#%%\n"
    }
   },
   "outputs": [
    {
     "name": "stdout",
     "output_type": "stream",
     "text": [
      "usage: ipykernel_launcher.py [-h] [--a A] [--b B] [--c C] [--d D] [--e E]\n",
      "                             [--f F] [--kwargs KWARGS]\n",
      "\n",
      "optional arguments:\n",
      "  -h, --help       show this help message and exit\n",
      "  --a A            set a, default is 1\n",
      "  --b B            set b, default is 0.2\n",
      "  --c C            set c, default is hello world\n",
      "  --d D            set d, default is [1, 2, 3]\n",
      "  --e E            set e, default is ('Tom', 'Jerry')\n",
      "  --f F            set f, default is {'Ada': 1.0, 'Sher': 3.0}, dict\n",
      "                   variables, use format: <key>=<value>(;<key>=<value>)\n",
      "  --kwargs KWARGS  add extra argument here, use format:\n",
      "                   <key>=<value>(;<key>=<value>)\n"
     ]
    },
    {
     "data": {
      "text/plain": "{'a': 10,\n 'b': 0.8,\n 'c': 'hello longling',\n 'd': [0, 1, 2, 3, 4, 5, 6, 7],\n 'e': (True, False),\n 'f': {'Ada': '2.0', 'Sher': {'a': 1, 'b': None}},\n 'g': 'a',\n 'h': None}"
     },
     "execution_count": 5,
     "metadata": {},
     "output_type": "execute_result"
    }
   ],
   "source": [
    "class ComplicatedParams(Configuration):\n",
    "    a = 1\n",
    "    b = 0.2\n",
    "    c = \"hello world\"\n",
    "    d = [1, 2, 3]\n",
    "    e = (\"Tom\", \"Jerry\")\n",
    "    f = {\"Ada\": 1.0, \"Sher\": 3.0}\n",
    "\n",
    "cfg_parser = ConfigurationParser(ComplicatedParams)\n",
    "cfg_parser.print_help()\n",
    "cfg_parser([\n",
    "    \"--a\", \"int(10)\",\n",
    "    \"--b\", \"float(0.8)\",\n",
    "    \"--c\", \"hello longling\",\n",
    "    \"--d\", \"list([i for i in range(8)])\",\n",
    "    \"--e\", \"tuple((bool(True), bool(False)))\",\n",
    "    \"--f\", \"Ada=2.0;Sher=dict(a=1,b=None)\",\n",
    "    \"--kwargs\", \"g=a;h=None\"\n",
    "])"
   ]
  },
  {
   "cell_type": "markdown",
   "metadata": {
    "pycharm": {
     "name": "#%% md\n"
    }
   },
   "source": [
    "All passed values will be treated as `str` by default.\n",
    "In order to enable the evaluation which can retrieve the data structure and expression from string,\n",
    "type declaration is required which is illustrated in the previous example.\n",
    "Only `dict` in the top level is a little special, `;` is used to distinguished the dict object.\n",
    "In addition, once the evaluation is enabled, the value inner the expression will be automatically parsed\n",
    "which is no longer needed the special expression like top level such as `Sher=dict(a=1,b=None)`\n",
    "\n",
    "```\n",
    "Q&A\n",
    "\n",
    "```\n",
    "\n",
    "\n",
    "## Advanced\n",
    "\n",
    "### `Configuration` template in machine learning\n",
    "First, we analyze our needs and then we tailor `Configuration` for machine learning task.\n",
    "\n",
    "#### File Structure"
   ]
  },
  {
   "cell_type": "code",
   "execution_count": 13,
   "outputs": [
    {
     "name": "stdout",
     "output_type": "stream",
     "text": [
      "logger: <Logger MLModel (INFO)>\n",
      "model_name: MLModel\n",
      "root: ./\n",
      "dataset: \n",
      "timestamp: 20201117094110\n",
      "workspace: \n",
      "root_data_dir: ./\\data\n",
      "data_dir: ./\\data\\data\n",
      "root_model_dir: ./\\data\\model\\MLModel\n",
      "model_dir: ./\\data\\model\\MLModel\n",
      "cfg_path: data\\model\\MLModel\\configuration.json\n",
      "caption: \n",
      "validation_result_file: data\\model\\MLModel\\result.json\n"
     ]
    }
   ],
   "source": [
    "from longling.ML import Configuration\n",
    "\n",
    "cfg = Configuration()\n",
    "print(cfg)"
   ],
   "metadata": {
    "collapsed": false,
    "pycharm": {
     "name": "#%%\n"
    }
   }
  },
  {
   "cell_type": "markdown",
   "source": [
    "For better illustration, we print the Table of Content (ToC) of the relevant directories and files\n",
    "```\n",
    "tutorials/      <-- root\n",
    "├── data/       <-- root_data_dir\n",
    "│   ├── data/       <-- data_dir\n",
    "│   │   ├── test\n",
    "│   │   ├── train\n",
    "│   │   └── valid\n",
    "│   └── model/\n",
    "│       └── MLModel/        <-- root_model_dir (also model_dir)\n",
    "│           ├── configuration.json      <-- cfg_path\n",
    "│           ├── params.txt\n",
    "│           └── result.json     <-- vadidation_result_file\n",
    "└── parser.ipynb        <-- the script you run\n",
    "```"
   ],
   "metadata": {
    "collapsed": false,
    "pycharm": {
     "name": "#%% md\n"
    }
   }
  },
  {
   "cell_type": "markdown",
   "source": [
    "To verify the generalization ability of the model, we need to conduct experiments on more than one datasets.\n",
    "So how about specify the dataset?"
   ],
   "metadata": {
    "collapsed": false,
    "pycharm": {
     "name": "#%% md\n"
    }
   }
  },
  {
   "cell_type": "code",
   "execution_count": 14,
   "outputs": [
    {
     "name": "stdout",
     "output_type": "stream",
     "text": [
      "logger: <Logger MLModel (INFO)>\n",
      "model_name: MLModel\n",
      "root: ./\n",
      "dataset: dataset1\n",
      "timestamp: 20201117094110\n",
      "workspace: \n",
      "root_data_dir: ./\\data\\dataset1\n",
      "data_dir: ./\\data\\dataset1\\data\n",
      "root_model_dir: ./\\data\\dataset1\\model\\MLModel\n",
      "model_dir: ./\\data\\dataset1\\model\\MLModel\n",
      "cfg_path: data\\dataset1\\model\\MLModel\\configuration.json\n",
      "caption: \n",
      "validation_result_file: data\\dataset1\\model\\MLModel\\result.json\n"
     ]
    }
   ],
   "source": [
    "cfg = Configuration(dataset=\"dataset1\")\n",
    "print(cfg)"
   ],
   "metadata": {
    "collapsed": false,
    "pycharm": {
     "name": "#%%\n"
    }
   }
  },
  {
   "cell_type": "markdown",
   "source": [
    "We print the ToC as below:\n",
    "```\n",
    "tutorials/      <-- root\n",
    "├── data/\n",
    "│   └── dataset1/       <-- root_data_dir\n",
    "│       ├── data/       <-- data_dir\n",
    "│       │   ├── test\n",
    "│       │   ├── train\n",
    "│       │   └── valid\n",
    "│       └── model/\n",
    "│           └── MLModel/        <-- root_model_dir (also model_dir)\n",
    "│               ├── configuration.json      <-- cfg_path\n",
    "│               ├── params.txt\n",
    "│               └── result.json     <-- vadidation_result_file\n",
    "└── parser.ipynb        <-- the script you run\n",
    "```\n",
    "See, a new hierarchy is added under `data` directory.\n",
    "\n",
    "Sometimes, we want to distinguish our model by different timestamp, so we propose RunTimePath (RTP) to implement this.\n",
    "By using \"$variable_name\" in path variable, we can dynamic determine the directory and file paths.\n",
    "\n",
    "For example, we use `timestamp` as `workspace`:"
   ],
   "metadata": {
    "collapsed": false,
    "pycharm": {
     "name": "#%% md\n"
    }
   }
  },
  {
   "cell_type": "code",
   "execution_count": 16,
   "outputs": [
    {
     "name": "stdout",
     "output_type": "stream",
     "text": [
      "logger: <Logger MLModel (INFO)>\n",
      "model_name: MLModel\n",
      "root: ./\n",
      "dataset: dataset1\n",
      "timestamp: 20201117094110\n",
      "workspace: 20201117094110\n",
      "root_data_dir: ./\\data\\dataset1\n",
      "data_dir: ./\\data\\dataset1\\data\n",
      "root_model_dir: ./\\data\\dataset1\\model\\MLModel\n",
      "model_dir: ./\\data\\dataset1\\model\\MLModel\\20201117094110\n",
      "cfg_path: data\\dataset1\\model\\MLModel\\20201117094110\\configuration.json\n",
      "caption: \n",
      "validation_result_file: data\\dataset1\\model\\MLModel\\20201117094110\\result.json\n"
     ]
    }
   ],
   "source": [
    "cfg = Configuration(dataset=\"dataset1\", workspace=\"$timestamp\")\n",
    "print(cfg)"
   ],
   "metadata": {
    "collapsed": false,
    "pycharm": {
     "name": "#%%\n"
    }
   }
  },
  {
   "cell_type": "markdown",
   "source": [
    "The ToC is changed as below:\n",
    "```\n",
    "tutorials/      <-- root\n",
    "├── data/\n",
    "│   └── dataset1/       <-- root_data_dir\n",
    "│       ├── data/       <-- data_dir\n",
    "│       │   ├── test\n",
    "│       │   ├── train\n",
    "│       │   └── valid\n",
    "│       └── model/\n",
    "│           └── MLModel/        <-- root_model_dir\n",
    "│               └── 20201117094110/     <-- model_dir\n",
    "│                   ├── configuration.json      <-- cfg_path\n",
    "│                   ├── params.txt\n",
    "│                   └── result.json     <-- validation_result_file\n",
    "└── parser.ipynb        <-- the script you run\n",
    "```\n",
    "\n",
    "See, the `model_dir` has been changed, where `timestamp` is used as the workspace.\n",
    "\n",
    "We list the default the variables supporting the run-time sequential assignment:\n",
    "```\n",
    "\"workspace\",\n",
    "\"root_data_dir\",\n",
    "\"data_dir\",\n",
    "\"root_model_dir\",\n",
    "\"model_dir\"\n",
    "```\n",
    "To be noticed that, during runtime, the variables are strictly determined by the sequential positions listed above.\n",
    "\n",
    "Although our predefined data and model structure can greatly help organize the data and model,\n",
    "we think it will be friendly if users want to specify as they wish.\n",
    "In fact, you can specify the data path like this:"
   ],
   "metadata": {
    "collapsed": false,
    "pycharm": {
     "name": "#%% md\n"
    }
   }
  },
  {
   "cell_type": "code",
   "execution_count": 18,
   "outputs": [
    {
     "name": "stdout",
     "output_type": "stream",
     "text": [
      "logger: <Logger MLModel (INFO)>\n",
      "model_name: MLModel\n",
      "root: ./\n",
      "dataset: \n",
      "timestamp: 20201117094110\n",
      "workspace: \n",
      "root_data_dir: ./\\data\n",
      "data_dir: data/\n",
      "root_model_dir: ./\\data\\model\\MLModel\n",
      "model_dir: model/\n",
      "cfg_path: model\\configuration.json\n",
      "caption: \n",
      "vadidation_result_file: result.json\n",
      "validation_result_file: model\\result.json\n"
     ]
    }
   ],
   "source": [
    "cfg = Configuration(\n",
    "    data_dir=\"data/\",\n",
    "    model_dir=\"model/\",\n",
    "    cfg_path=\"$model_dir/cfg.json\",\n",
    "    vadidation_result_file=\"result.json\"\n",
    ")\n",
    "print(cfg)"
   ],
   "metadata": {
    "collapsed": false,
    "pycharm": {
     "name": "#%%\n"
    }
   }
  },
  {
   "cell_type": "markdown",
   "source": [
    "```\n",
    "tutorials/\n",
    "├── data/       <-- data_dir\n",
    "│   ├── test\n",
    "│   ├── train\n",
    "│   └── valid\n",
    "├── model/      <-- model_dir\n",
    "│   ├── configuration.json      <-- cfg_path\n",
    "│   ├── parans.txt\n",
    "│   └── result.json     <-- validation_result_file\n",
    "└── parser.ipynb        <-- the script you run\n",
    "```\n",
    "More simply, you can pass any path variables and use them."
   ],
   "metadata": {
    "collapsed": false,
    "pycharm": {
     "name": "#%% md\n"
    }
   }
  },
  {
   "cell_type": "code",
   "execution_count": 20,
   "outputs": [
    {
     "name": "stdout",
     "output_type": "stream",
     "text": [
      "train_path: train\n",
      "valid_path: valid\n",
      "test_path: test\n"
     ]
    }
   ],
   "source": [
    "cfg = Configuration(train_path=\"train\", valid_path=\"valid\", test_path=\"test\")\n",
    "print(\"train_path:\", cfg.train_path)\n",
    "print(\"valid_path:\",cfg.valid_path)\n",
    "print(\"test_path:\",cfg.test_path)"
   ],
   "metadata": {
    "collapsed": false,
    "pycharm": {
     "name": "#%%\n"
    }
   }
  },
  {
   "cell_type": "markdown",
   "source": [
    "Consider there are various frameworks which have their own individual undumpedable variables,\n",
    "we respectively design the different `Configuration` template for some of them:"
   ],
   "metadata": {
    "collapsed": false,
    "pycharm": {
     "name": "#%% md\n"
    }
   }
  },
  {
   "cell_type": "markdown",
   "source": [
    "#### Dynamic Parameters\n",
    "\n",
    "We often set the default parameters combinations in ML models to help us initialize components.\n",
    "For example, we use the following `NCfg` to include two properties: `train_params` and `lr_params`:"
   ],
   "metadata": {
    "collapsed": false,
    "pycharm": {
     "name": "#%% md\n"
    }
   }
  },
  {
   "cell_type": "code",
   "execution_count": 32,
   "outputs": [
    {
     "data": {
      "text/plain": "({'batch_size': 64, 'begin_epoch': 0, 'end_epoch': 10},\n {'learning_rate': 0.01, 'max_update_steps': 1000})"
     },
     "execution_count": 32,
     "metadata": {},
     "output_type": "execute_result"
    }
   ],
   "source": [
    "class NCfg(Configuration):\n",
    "    train_params = {\"batch_size\": 64, \"begin_epoch\": 0, \"end_epoch\": 10}\n",
    "    lr_params = {\"learning_rate\": 0.01, \"max_update_steps\": 1000}\n",
    "cfg = NCfg()\n",
    "cfg.train_params, cfg.lr_params"
   ],
   "metadata": {
    "collapsed": false,
    "pycharm": {
     "name": "#%%\n"
    }
   }
  },
  {
   "cell_type": "markdown",
   "source": [
    "Usually, we change these parameters combinations by passing new values:"
   ],
   "metadata": {
    "collapsed": false,
    "pycharm": {
     "name": "#%% md\n"
    }
   }
  },
  {
   "cell_type": "code",
   "execution_count": 34,
   "outputs": [
    {
     "data": {
      "text/plain": "({'batch_size': 128, 'begin_epoch': 0, 'end_epoch': 10},\n {'learning_rate': 0.1, 'max_update_steps': 1000})"
     },
     "execution_count": 34,
     "metadata": {},
     "output_type": "execute_result"
    }
   ],
   "source": [
    "cfg = NCfg(\n",
    "    train_params={\"batch_size\": 128, \"begin_epoch\": 0, \"end_epoch\": 10},\n",
    "    lr_params = {\"learning_rate\": 0.1, \"max_update_steps\": 1000}\n",
    ")\n",
    "cfg.train_params, cfg.lr_params"
   ],
   "metadata": {
    "collapsed": false,
    "pycharm": {
     "name": "#%%\n"
    }
   }
  },
  {
   "cell_type": "markdown",
   "source": [
    "Although we only want to change two sub-parameters (i.e., `batch_size` and `learning_rate`),\n",
    "we need to repass all parameters.\n",
    "To simplify that, we can simply use the `_update` suffix to update `*_params` variables\n",
    "by only passing the changed sub-parameters."
   ],
   "metadata": {
    "collapsed": false,
    "pycharm": {
     "name": "#%% md\n"
    }
   }
  },
  {
   "cell_type": "code",
   "execution_count": 35,
   "outputs": [
    {
     "data": {
      "text/plain": "({'batch_size': 32, 'begin_epoch': 0, 'end_epoch': 10},\n {'learning_rate': 0.001, 'max_update_steps': 1000})"
     },
     "execution_count": 35,
     "metadata": {},
     "output_type": "execute_result"
    }
   ],
   "source": [
    "cfg = NCfg(\n",
    "    train_params_update={\"batch_size\": 32},\n",
    "    lr_params_update={\"learning_rate\": 0.001}\n",
    ")\n",
    "cfg.train_params, cfg.lr_params"
   ],
   "metadata": {
    "collapsed": false,
    "pycharm": {
     "name": "#%%\n"
    }
   }
  },
  {
   "cell_type": "markdown",
   "source": [
    "#### One step to CLI\n",
    "\n",
    "By cooperating with `ConfigurationParser`, we can use cli commands to specify the variables from console:"
   ],
   "metadata": {
    "collapsed": false,
    "pycharm": {
     "name": "#%% md\n"
    }
   }
  },
  {
   "cell_type": "code",
   "execution_count": 30,
   "outputs": [
    {
     "name": "stdout",
     "output_type": "stream",
     "text": [
      "usage: ipykernel_launcher.py [-h] [--model_name MODEL_NAME] [--root ROOT]\n",
      "                             [--dataset DATASET] [--timestamp TIMESTAMP]\n",
      "                             [--workspace WORKSPACE]\n",
      "                             [--root_data_dir ROOT_DATA_DIR]\n",
      "                             [--data_dir DATA_DIR]\n",
      "                             [--root_model_dir ROOT_MODEL_DIR]\n",
      "                             [--model_dir MODEL_DIR] [--cfg_path CFG_PATH]\n",
      "                             [--caption CAPTION] [--kwargs KWARGS]\n",
      "\n",
      "optional arguments:\n",
      "  -h, --help            show this help message and exit\n",
      "  --model_name MODEL_NAME\n",
      "                        set model_name, default is MLModel\n",
      "  --root ROOT           set root, default is ./\n",
      "  --dataset DATASET     set dataset, default is\n",
      "  --timestamp TIMESTAMP\n",
      "                        set timestamp, default is 20201117094110\n",
      "  --workspace WORKSPACE\n",
      "                        set workspace, default is\n",
      "  --root_data_dir ROOT_DATA_DIR\n",
      "                        set root_data_dir, default is $root\\data\n",
      "  --data_dir DATA_DIR   set data_dir, default is $root_data_dir\\data\n",
      "  --root_model_dir ROOT_MODEL_DIR\n",
      "                        set root_model_dir, default is\n",
      "                        $root_data_dir\\model\\$model_name\n",
      "  --model_dir MODEL_DIR\n",
      "                        set model_dir, default is\n",
      "                        $root_data_dir\\model\\$model_name\n",
      "  --cfg_path CFG_PATH   set cfg_path, default is $model_dir\\configuration.json\n",
      "  --caption CAPTION     set caption, default is\n",
      "  --kwargs KWARGS       add extra argument here, use format:\n",
      "                        <key>=<value>(;<key>=<value>)\n"
     ]
    },
    {
     "data": {
      "text/plain": "{'model_name': 'MLModel',\n 'root': './',\n 'dataset': '',\n 'timestamp': '20201117094110',\n 'workspace': 'model1',\n 'root_data_dir': '$root\\\\data',\n 'data_dir': '$root_data_dir',\n 'root_model_dir': '$root_data_dir\\\\model\\\\$model_name',\n 'model_dir': PureWindowsPath('$root_data_dir/model/$model_name'),\n 'cfg_path': PureWindowsPath('$model_dir/configuration.json'),\n 'caption': 'this is a test message',\n 'test_path': 'test'}"
     },
     "execution_count": 30,
     "metadata": {},
     "output_type": "execute_result"
    }
   ],
   "source": [
    "from longling.ML import ConfigurationParser\n",
    "cfg = Configuration()\n",
    "cfg_parser = ConfigurationParser(Configuration)\n",
    "\n",
    "cfg_parser.print_help()\n",
    "cfg_kwargs = cfg_parser([\n",
    "    \"--data_dir\", \"$root_data_dir\",\n",
    "    \"--workspace\", \"model1\",\n",
    "    \"--caption\", \"this is a test message\",\n",
    "    \"--kwargs\", \"test_path=test\"\n",
    "])\n",
    "cfg_kwargs"
   ],
   "metadata": {
    "collapsed": false,
    "pycharm": {
     "name": "#%%\n"
    }
   }
  },
  {
   "cell_type": "code",
   "execution_count": 29,
   "outputs": [
    {
     "name": "stdout",
     "output_type": "stream",
     "text": [
      "logger: <Logger MLModel (INFO)>\n",
      "model_name: MLModel\n",
      "root: ./\n",
      "dataset: \n",
      "timestamp: 20201117094110\n",
      "workspace: model1\n",
      "root_data_dir: ./\\data\n",
      "data_dir: ./\\data\n",
      "root_model_dir: ./\\data\\model\\MLModel\n",
      "model_dir: ./\\data\\model\\MLModel\\model1\n",
      "cfg_path: data\\model\\MLModel\\model1\\configuration.json\n",
      "caption: this is a test message\n",
      "test_path: test\n",
      "validation_result_file: data\\model\\MLModel\\model1\\result.json\n"
     ]
    }
   ],
   "source": [
    "print(Configuration(**cfg_kwargs))"
   ],
   "metadata": {
    "collapsed": false,
    "pycharm": {
     "name": "#%%\n"
    }
   }
  },
  {
   "cell_type": "markdown",
   "source": [
    "#### Variants\n",
    "\n",
    "##### `Configuration` for `mxnet`\n",
    "\n",
    "[`mxnet`](https://mxnet.apache.org)is a widely used deep learning framework and contains several handy but unique variable class.\n",
    "For example, when using `mxnet`, context (i.e., `ctx`) should be specified no matter in data loading or model training.\n",
    "Thus, `ctx` is the variable which should be included in `Configuration`.\n",
    "However, as claimed before, unique variable cannot be directly dumped into `json` file\n",
    "and obviously `ctx` is a run-time variable which is pointless to preserve it in dumped file.\n",
    "\n",
    "#### `Configuration` for `pytorch`"
   ],
   "metadata": {
    "collapsed": false,
    "pycharm": {
     "name": "#%% md\n"
    }
   }
  }
 ],
 "metadata": {
  "kernelspec": {
   "display_name": "Python 3",
   "language": "python",
   "name": "python3"
  },
  "language_info": {
   "codemirror_mode": {
    "name": "ipython",
    "version": 3
   },
   "file_extension": ".py",
   "mimetype": "text/x-python",
   "name": "python",
   "nbconvert_exporter": "python",
   "pygments_lexer": "ipython3",
   "version": "3.6.6"
  }
 },
 "nbformat": 4,
 "nbformat_minor": 1
}