{
 "cells": [
  {
   "cell_type": "markdown",
   "metadata": {
    "collapsed": true,
    "pycharm": {
     "name": "#%% md\n"
    }
   },
   "source": [
    "# Tutorial for Model Selection\n",
    "\n",
    "\n",
    "* Locate the best model based on maximum or minimum metric value\n",
    "* Plot the metrics value curve"
   ]
  },
  {
   "cell_type": "markdown",
   "source": [
    "## Locate the best model"
   ],
   "metadata": {
    "collapsed": false,
    "pycharm": {
     "name": "#%% md\n"
    }
   }
  },
  {
   "cell_type": "code",
   "execution_count": 6,
   "outputs": [
    {
     "name": "stdout",
     "output_type": "stream",
     "text": [
      "macro_auc: 0.738321\n"
     ]
    }
   ],
   "source": [
    "!longling amax macro_auc --src demo_data/result.json"
   ],
   "metadata": {
    "collapsed": false,
    "pycharm": {
     "name": "#%%\n"
    }
   }
  },
  {
   "cell_type": "code",
   "execution_count": 7,
   "outputs": [
    {
     "name": "stdout",
     "output_type": "stream",
     "text": [
      "           Epoch  macro_avg:f1  macro_auc\n",
      "macro_auc      2      0.527708   0.738321\n"
     ]
    }
   ],
   "source": [
    "!longling amax macro_auc --src demo_data/result.json --with_keys \"Epoch;macro_avg:f1\""
   ],
   "metadata": {
    "collapsed": false,
    "pycharm": {
     "name": "#%%\n"
    }
   }
  },
  {
   "cell_type": "code",
   "execution_count": 18,
   "outputs": [
    {
     "name": "stdout",
     "output_type": "stream",
     "text": [
      "              Epoch  macro_avg:f1  accuracy  macro_auc\n",
      "macro_auc         2      0.527708  0.696946   0.738321\n",
      "accuracy          9      0.556229  0.704600   0.735114\n",
      "macro_avg:f1      9      0.556229  0.704600   0.735114\n"
     ]
    }
   ],
   "source": [
    "!longling amax macro_auc accuracy macro_avg:f1 --src demo_data/result.json --with_keys \"Epoch;macro_avg:f1;accuracy;macro_auc\""
   ],
   "metadata": {
    "collapsed": false,
    "pycharm": {
     "name": "#%%\n"
    }
   }
  },
  {
   "cell_type": "code",
   "execution_count": 19,
   "outputs": [
    {
     "name": "stdout",
     "output_type": "stream",
     "text": [
      "              Epoch  macro_avg:f1  accuracy  macro_auc  LogisticLoss\n",
      "LogisticLoss      9      0.556229    0.7046   0.735114      0.473879\n"
     ]
    }
   ],
   "source": [
    "!longling amin LogisticLoss --src demo_data/result.json --with_keys \"Epoch;macro_avg:f1;accuracy;macro_auc\""
   ],
   "metadata": {
    "collapsed": false,
    "pycharm": {
     "name": "#%%\n"
    }
   }
  },
  {
   "cell_type": "markdown",
   "source": [
    "Use tensorboard"
   ],
   "metadata": {
    "collapsed": false,
    "pycharm": {
     "name": "#%% md\n"
    }
   }
  },
  {
   "cell_type": "code",
   "execution_count": null,
   "outputs": [],
   "source": [
    "!longling to_board demo_data/result.json demo_data/board_result Epoch LogisticLoss macro_auc macro_avg:f1 accuracy"
   ],
   "metadata": {
    "collapsed": false,
    "pycharm": {
     "name": "#%%\n",
     "is_executing": true
    }
   }
  },
  {
   "cell_type": "markdown",
   "source": [
    "```sh\n",
    "# run the following command in this directory on the terminal\n",
    "tensorboard --logdir demo_data/board_result\n",
    "```"
   ],
   "metadata": {
    "collapsed": false,
    "pycharm": {
     "name": "#%% md\n"
    }
   }
  }
 ],
 "metadata": {
  "kernelspec": {
   "display_name": "Python 3",
   "language": "python",
   "name": "python3"
  },
  "language_info": {
   "codemirror_mode": {
    "name": "ipython",
    "version": 2
   },
   "file_extension": ".py",
   "mimetype": "text/x-python",
   "name": "python",
   "nbconvert_exporter": "python",
   "pygments_lexer": "ipython2",
   "version": "2.7.6"
  }
 },
 "nbformat": 4,
 "nbformat_minor": 0
}